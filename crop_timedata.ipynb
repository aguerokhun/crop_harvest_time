{
 "cells": [
  {
   "cell_type": "code",
   "execution_count": null,
   "metadata": {},
   "outputs": [],
   "source": [
    "import csv\n",
    "with open(\"CROP PREDICTION.txt\" , 'r') as txt_file:\n",
    "    lines = txt_file.readlines()\n",
    "with open('output.csv', 'w', newline= '') as csv_file:\n",
    "    writer = csv.writer(csv_file)\n",
    "for line in lines:\n",
    "    writer.writerow([line.strip()])\n",
    "    \n",
    "    "
   ]
  },
  {
   "cell_type": "code",
   "execution_count": 2,
   "metadata": {},
   "outputs": [],
   "source": [
    "from fastapi import FastAPI, HTTPException\n",
    "from datetime import datetime, timedelta\n",
    "import pandas as pd\n",
    "\n",
    "app = FastAPI()\n",
    "df = pd.read_csv(\"output.csv\")\n",
    "\n",
    "@app.get(\"harvest_date\")\n",
    "async def get_harvest_date(crop: str, date: str):\n",
    "    try:\n",
    "        planting_date = datetime.strptime(planting_date, \"%Y-%m-%d\")\n",
    "    except ValueError:\n",
    "        raise HTTPException(status_code= 400, detail = \"Invalid Date Format, Use YYYY-MM-DD.\")\n",
    "    \n",
    "    if crop not in df['CROP']:\n",
    "        raise HTTPException(status_code= 404, detail = \"Crop not found\")\n",
    "    \n",
    "    days_to_add = df.loc[df['CROP'] == crop, \"DAYS\"].values[0]\n",
    "    \n",
    "    harvest_date = planting_date + timedelta(days=days_to_add)\n",
    "    \n",
    "    return {\"crop\":crop, \"planting_date\" : planting_date.strftime(\"%y-%m-%d\"), \"harvest_date\" : harvest_date.strftime(\"%y-%m-%d\")}   \n",
    "    "
   ]
  },
  {
   "cell_type": "code",
   "execution_count": null,
   "metadata": {},
   "outputs": [],
   "source": []
  }
 ],
 "metadata": {
  "kernelspec": {
   "display_name": "Python 3",
   "language": "python",
   "name": "python3"
  },
  "language_info": {
   "codemirror_mode": {
    "name": "ipython",
    "version": 3
   },
   "file_extension": ".py",
   "mimetype": "text/x-python",
   "name": "python",
   "nbconvert_exporter": "python",
   "pygments_lexer": "ipython3",
   "version": "3.11.9"
  }
 },
 "nbformat": 4,
 "nbformat_minor": 2
}
